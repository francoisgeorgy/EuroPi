{
 "cells": [
  {
   "cell_type": "markdown",
   "metadata": {},
   "source": [
    "# EuroPi calibration\n",
    "\n",
    "The calibration or the EuroPi analog input and analog outputs is quite simple.\n",
    "\n",
    "To calibrate the input, we apply a reference voltage to the analog input and measure the ADC (Analog to Digial Converter) output. We repeat this process several times with different reference voltages spanning the whole analog input range. To get the ADC reading corresponding to other voltages, we simply interpolate the value with a linear approximation.\n",
    "\n",
    "Calibrating the CV outputs requires a bit more work as the Raspberry Pi Pico does not have a\n",
    "DAC (Digital to Analog Converter). The outputs are PWM (Pulse-Width Modulation) oscillators. A low-pass filter is\n",
    "used to smooth out the rapid switching of the PWM to create a stable voltage.  To generate a specific voltage, we\n",
    "vary the duty-cycle of the PWM oscillator.\n",
    "\n",
    "To calibrate the analog output, we select a reference voltage and adjust the duty-cycle until the reference\n",
    "voltage is measured at the output using a precise voltmeter. We repeat this process with different reference\n",
    "voltages spanning the entire analog output range and, like for the analog input, we use linear interpolation\n",
    "to determine the duty-cycle for other voltages."
   ]
  },
  {
   "cell_type": "code",
   "execution_count": 1,
   "metadata": {
    "tags": []
   },
   "outputs": [],
   "source": [
    "import matplotlib.pyplot as plt\n",
    "import numpy as np\n",
    "\n",
    "MAX_UINT16 = 65535\n",
    "\n",
    "MIN_INPUT_VOLTAGE = 0\n",
    "MAX_INPUT_VOLTAGE = 12\n",
    "\n",
    "MIN_OUTPUT_VOLTAGE = 0\n",
    "MAX_OUTPUT_VOLTAGE = 10\n",
    "\n",
    "def clamp(value, low, high):\n",
    "    return max(min(value, high), low)\n",
    "\n",
    "# just an utility function\n",
    "def create_plot(x_min=0, x_max=10, ticks=1):\n",
    "    fig = plt.figure()\n",
    "    ax = fig.add_subplot(1, 1, 1)\n",
    "    major_ticks = np.arange(x_min, x_max+1, ticks)\n",
    "    ax.set_xticks(major_ticks)\n",
    "    ax.grid(which='both')\n",
    "    ax.set_axisbelow(True)\n",
    "    return ax"
   ]
  },
  {
   "cell_type": "markdown",
   "metadata": {},
   "source": [
    "# Analog Input (ain) calibration procedure\n",
    "\n",
    "The **reference voltages** used for the calibration are :"
   ]
  },
  {
   "cell_type": "code",
   "execution_count": 2,
   "metadata": {},
   "outputs": [],
   "source": [
    "# reference voltages :\n",
    "INPUT_CALIBRATION_POINTS = [0, 1, 2, 3, 4, 5, 6, 7, 8, 9, 10]"
   ]
  },
  {
   "cell_type": "markdown",
   "metadata": {},
   "source": [
    "To **read the ADC output** we use the function :\n",
    "\n",
    "`ADC_reading = ain.read_u16()`\n",
    "\n",
    "For a single reading, we call `read_u16()` several time and use the average value as the reading value. This allow to smooth-out the inherent ADC noise."
   ]
  },
  {
   "cell_type": "code",
   "execution_count": 3,
   "metadata": {},
   "outputs": [],
   "source": [
    "def sample():\n",
    "    readings = []\n",
    "    for reading in range(256):\n",
    "        readings.append(ain.read_u16())\n",
    "    return round(sum(readings) / 256)"
   ]
  },
  {
   "cell_type": "markdown",
   "metadata": {},
   "source": [
    "Once we have measured the different reference voltages defined above, we get a serie of corresponding ADC readings : "
   ]
  },
  {
   "cell_type": "code",
   "execution_count": 4,
   "metadata": {},
   "outputs": [],
   "source": [
    "# ADC readings :\n",
    "INPUT_CALIBRATION_VALUES = [523, 3950, 7396, 11242, 15464, 19698, 24520, 29801, 34257, 38762, 44268]"
   ]
  },
  {
   "cell_type": "markdown",
   "metadata": {},
   "source": [
    "We can represent these calibration points on a graph :"
   ]
  },
  {
   "cell_type": "code",
   "execution_count": 5,
   "metadata": {
    "tags": []
   },
   "outputs": [
    {
     "data": {
      "image/png": "[encoded data removed]",
      "text/plain": [
       "<matplotlib.figure.Figure at 0x7f44657756a0>"
      ]
     },
     "metadata": {
      "needs_background": "light"
     },
     "output_type": "display_data"
    }
   ],
   "source": [
    "ax = create_plot()\n",
    "p = ax.scatter(INPUT_CALIBRATION_POINTS, INPUT_CALIBRATION_VALUES, s=80)\n",
    "p.set_label('ADC readings')\n",
    "ax.legend()\n",
    "plt.xlabel('Ref voltage')    # reference voltages as X\n",
    "plt.ylabel('ADC output')     # ADC readings as Y\n",
    "plt.show()"
   ]
  },
  {
   "cell_type": "markdown",
   "metadata": {},
   "source": [
    "### Saving of the calibration results :\n",
    "\n",
    "Once all the references voltage have been applied and the ADC readings done, these values are saved in the `calibration.py` file. This file will be loaded by the firmware and the values used to correct the ADC readings when calling `europi.voltage()` for example."
   ]
  },
  {
   "cell_type": "markdown",
   "metadata": {
    "tags": []
   },
   "source": [
    "## Usage of the calibration values in the firmware :\n",
    "\n",
    "Each pair or calibration point is connected with a linear segment of the form :\n",
    "\n",
    "**y = m*x + b**\n",
    "\n",
    "- `m` is the gradient (or slope)\n",
    "- `b` is the `y` offset at the origin of the segment.\n",
    "\n",
    "The gradient is calculated with `gradient = (y1-y0) / (x1-x0)`\n",
    "\n",
    "In our case the `y` values are the ADC readings, and the `x` values are the reference voltages used for the calibration.\n",
    "\n",
    "#### We can represent these segments in a graph : \n",
    "\n",
    "_Please note that the axis have been swapped, X is now the ADC readings._"
   ]
  },
  {
   "cell_type": "code",
   "execution_count": 6,
   "metadata": {},
   "outputs": [
    {
     "data": {
      "image/png": "[encoded data removed]",
      "text/plain": [
       "<matplotlib.figure.Figure at 0x7f445d740630>"
      ]
     },
     "metadata": {
      "needs_background": "light"
     },
     "output_type": "display_data"
    }
   ],
   "source": [
    "ax = create_plot(0, 65535, 10000)\n",
    "p1, = ax.plot(INPUT_CALIBRATION_VALUES, INPUT_CALIBRATION_POINTS, '#555555')\n",
    "p2 = ax.scatter(INPUT_CALIBRATION_VALUES, INPUT_CALIBRATION_POINTS, s=80)\n",
    "p2.set_label('calibration points')\n",
    "ax.legend()\n",
    "plt.xlabel('ADC value')\n",
    "plt.ylabel('Voltage')\n",
    "plt.show()"
   ]
  },
  {
   "cell_type": "markdown",
   "metadata": {},
   "source": [
    "### Gradients precomputation :\n",
    "\n",
    "We can precompute these segments' gradients in advance. This will allow for a slightly faster correction computation when we read a voltage :"
   ]
  },
  {
   "cell_type": "code",
   "execution_count": 7,
   "metadata": {},
   "outputs": [],
   "source": [
    "gradients = []\n",
    "for index, value in enumerate(INPUT_CALIBRATION_VALUES[:-1]):\n",
    "    gradients.append(\n",
    "        (INPUT_CALIBRATION_POINTS[index + 1] - INPUT_CALIBRATION_POINTS[index]) /\n",
    "        (INPUT_CALIBRATION_VALUES[index + 1] - value))"
   ]
  },
  {
   "cell_type": "markdown",
   "metadata": {},
   "source": [
    "We re-use the last gradient for the ADC values that exceed the last calibration point :"
   ]
  },
  {
   "cell_type": "code",
   "execution_count": 8,
   "metadata": {},
   "outputs": [],
   "source": [
    "gradients.append(gradients[-1])"
   ]
  },
  {
   "cell_type": "code",
   "execution_count": 9,
   "metadata": {
    "tags": []
   },
   "outputs": [
    {
     "name": "stdout",
     "output_type": "stream",
     "text": [
      "gradients : 0.000292, 0.000290, 0.000260, 0.000237, 0.000236, 0.000207, 0.000189, 0.000224, 0.000222, 0.000182, 0.000182\n"
     ]
    }
   ],
   "source": [
    "print(\"gradients :\", ', '.join(f\"{g:0.6f}\" for g in gradients))"
   ]
  },
  {
   "cell_type": "markdown",
   "metadata": {
    "tags": []
   },
   "source": [
    "### How is the calibration applied : \n",
    "\n",
    "We want to know the voltage that correspond to the following ADC reading :"
   ]
  },
  {
   "cell_type": "code",
   "execution_count": 10,
   "metadata": {},
   "outputs": [],
   "source": [
    "reading = 25000"
   ]
  },
  {
   "cell_type": "markdown",
   "metadata": {},
   "source": [
    "**Begin by finding the first segment that includes our reading :**"
   ]
  },
  {
   "cell_type": "code",
   "execution_count": 11,
   "metadata": {},
   "outputs": [
    {
     "name": "stdout",
     "output_type": "stream",
     "text": [
      "index = 6 (segment 24520..29801)\n"
     ]
    }
   ],
   "source": [
    "index = next(index for index, r in enumerate(INPUT_CALIBRATION_VALUES) if r >= reading) - 1\n",
    "\n",
    "print(f\"index = {index} (segment {INPUT_CALIBRATION_VALUES[index]}..{INPUT_CALIBRATION_VALUES[index+1]})\")"
   ]
  },
  {
   "cell_type": "markdown",
   "metadata": {},
   "source": [
    "**Then, calculate the corresponding value (voltage) with the linear equation formula :**\n",
    "\n",
    "**`y = offset + (slope * x)`**\n",
    "\n",
    "In the above formula, `offset` is the y value at `x=0` (origin).\n",
    "\n",
    "In our case, the origin point is (`INPUT_CALIBRATION_POINTS[index]`, `INPUT_CALIBRATION_VALUES[index]`)\n",
    "\n",
    "We already have `slope` value, this is the segment's gradient we precomputed before.\n",
    "\n",
    "We have a special case if the reading is lower then the lowest calibration reading, in this case `index=-1` and we simply say that the voltage is 0 (since we do not go into negative voltage)."
   ]
  },
  {
   "cell_type": "code",
   "execution_count": 12,
   "metadata": {},
   "outputs": [
    {
     "name": "stdout",
     "output_type": "stream",
     "text": [
      "cv = 6 + 0.000189 * (25000-24520) = 6.09 V for ADC reading = 25000\n"
     ]
    }
   ],
   "source": [
    "if index < 0:\n",
    "    cv = 0\n",
    "    print(f\"cv = 0 V for ADC reading = {reading}\")\n",
    "else:\n",
    "    cv = INPUT_CALIBRATION_POINTS[index] + gradients[index] * (reading - INPUT_CALIBRATION_VALUES[index])\n",
    "    print(f\"cv = {INPUT_CALIBRATION_POINTS[index]} + {gradients[index]:0.6f} * ({reading}-{INPUT_CALIBRATION_VALUES[index]}) = {cv:0.2f} V for ADC reading = {reading}\")    "
   ]
  },
  {
   "cell_type": "markdown",
   "metadata": {
    "tags": []
   },
   "source": [
    "# Outputs calibration :\n",
    "\n",
    "We use the analog input (_ain_) to calibrate the analog outputs. We use _ain_ to measure the output voltage. It is therefore important that the analog input has been calibrated beforehand.\n",
    "\n",
    "For this, we need to know what is the ADC value that coresponds to a given voltage.\n",
    "\n",
    "### How to calculate the analog input ADC value for a specific voltage :\n",
    "\n",
    "This is very similar to the previous computations used to get the real voltage from an ADC reading. We use the same precomputed gradients as before but, instead of finding the voltage from and ADC value, we want to get the ADC value for a given voltage.\n",
    "\n",
    "Let's say we want to calibrate our output to generate 5.00 V :"
   ]
  },
  {
   "cell_type": "code",
   "execution_count": 13,
   "metadata": {},
   "outputs": [],
   "source": [
    "cv = 5.00"
   ]
  },
  {
   "cell_type": "markdown",
   "metadata": {},
   "source": [
    "Since we use _ain_ to measure the output, we must therefore determine what is the ADC value which corresponds to a value of 5V at _ain_."
   ]
  },
  {
   "cell_type": "markdown",
   "metadata": {},
   "source": [
    "**Find the first segment that includes the given voltage :**"
   ]
  },
  {
   "cell_type": "code",
   "execution_count": 14,
   "metadata": {},
   "outputs": [
    {
     "name": "stdout",
     "output_type": "stream",
     "text": [
      "index = 4 (segment 4..5)\n"
     ]
    }
   ],
   "source": [
    "index = next(index for index, v in enumerate(INPUT_CALIBRATION_POINTS) if v >= cv) - 1\n",
    "\n",
    "print(f\"index = {index} (segment {INPUT_CALIBRATION_POINTS[index]}..{INPUT_CALIBRATION_POINTS[index+1]})\")"
   ]
  },
  {
   "cell_type": "markdown",
   "metadata": {},
   "source": [
    "**Calculate the corresponding value (ADC reading) with the linear equation formula :**"
   ]
  },
  {
   "cell_type": "code",
   "execution_count": 15,
   "metadata": {},
   "outputs": [
    {
     "name": "stdout",
     "output_type": "stream",
     "text": [
      "ADC value must be 19698 for ain = 5.0 V\n"
     ]
    }
   ],
   "source": [
    "if index < 0:\n",
    "    expected_reading = INPUT_CALIBRATION_VALUES[0]\n",
    "else:    \n",
    "    expected_reading = int(INPUT_CALIBRATION_VALUES[index] + (cv - INPUT_CALIBRATION_POINTS[index]) / gradients[index])\n",
    "    \n",
    "print(f\"ADC value must be {expected_reading} for ain = {cv} V\")"
   ]
  },
  {
   "cell_type": "markdown",
   "metadata": {},
   "source": [
    "## Calibration of the output :\n",
    "\n",
    "To output a voltage we use the following function :\n",
    "\n",
    "`pin.duty_u16(N)`\n",
    "    \n",
    "`N` is a 16 bits number (0..65535).\n",
    "\n",
    "### The calibration process is simple : \n",
    "\n",
    "We set the output duty_cycle to generate a voltage, measure it with _ain_ and compare against a reference _ain_ reading. We adjust the output voltage until the _ain_ reading matches the reference value.\n",
    "\n",
    "1. generate a voltage with a duty_cycle N\n",
    "2. measure this voltage with ain ADC\n",
    "3. correct the output voltage duty_cycle (N) and try again until the ain reading matches the reference value\n",
    "\n",
    "**We do this for every 1V from 0 to 10V.**\n",
    "\n",
    "_Implementation note: since we calibrate for 1, 2, 3 ... 10V, we can directly use the reference output voltage as the index of the output calibration list._"
   ]
  },
  {
   "cell_type": "raw",
   "metadata": {},
   "source": [
    "output_duties = []              # this list will hold the output calibration values\n",
    "for cv in range(1, 11):\n",
    "    try:\n",
    "        index = next(index for index, v in enumerate(INPUT_CALIBRATION_POINTS) if v >= cv)\n",
    "    except StopIteration:\n",
    "        # end of list reached\n",
    "        index = 10\n",
    "    expected_reading = int(INPUT_CALIBRATION_VALUES[index] + (cv - INPUT_CALIBRATION_POINTS[index]) / gradients[index])\n",
    "    duty = 0\n",
    "    reading = 0\n",
    "    while abs(reading - expected_reading) > 0.002 and reading < expected_reading:\n",
    "        cv1.duty_u16(duty)      # output a voltage\n",
    "        sleep(0.1)              # wait for the voltage to stabilize (only necessary for the calibration)\n",
    "        duty += 10\n",
    "        reading = sample()      # read the ADC\n",
    "    output_duties.append(duty)  "
   ]
  },
  {
   "cell_type": "markdown",
   "metadata": {},
   "source": [
    "The results above, saved in `output_duties` are the reference values for the output calibration.\n",
    "\n",
    "We write these values as **`OUTPUT_CALIBRATION_VALUES`** :"
   ]
  },
  {
   "cell_type": "code",
   "execution_count": 16,
   "metadata": {},
   "outputs": [],
   "source": [
    "OUTPUT_CALIBRATION_VALUES=[0, 4870, 9820, 15530, 21630, 27810, 34640, 41640, 48630, 55770, 63090]"
   ]
  },
  {
   "cell_type": "markdown",
   "metadata": {},
   "source": [
    "Since we used a `range(0, 11)` for the calibration points, we have :"
   ]
  },
  {
   "cell_type": "code",
   "execution_count": 17,
   "metadata": {},
   "outputs": [],
   "source": [
    "OUTPUT_CALIBRATION_POINTS=[0, 1, 2, 3, 4, 5, 6, 7, 8, 9, 10]"
   ]
  },
  {
   "cell_type": "markdown",
   "metadata": {},
   "source": [
    "## Use the output calibration data to generate a precise voltage : "
   ]
  },
  {
   "cell_type": "markdown",
   "metadata": {},
   "source": [
    "Optimisation note : with the above definition we always have `OUTPUT_CALIBRATION_POINTS[index] == index` \n",
    "when we `enumerate(OUTPUT_CALIBRATION_POINTS)`. We can therefore replace `OUTPUT_CALIBRATION_POINTS[index]` with `index` and `OUTPUT_CALIBRATION_POINTS[index+1]` with `index+1`."
   ]
  },
  {
   "cell_type": "markdown",
   "metadata": {},
   "source": [
    "Again, the usage is very similar to the one applied to the input calibration data. We connect the output calibration values with linear segments and use the simple linear equation to interpolate the values.\n",
    "\n",
    "### Output gradients precomputation :"
   ]
  },
  {
   "cell_type": "code",
   "execution_count": 18,
   "metadata": {},
   "outputs": [
    {
     "name": "stdout",
     "output_type": "stream",
     "text": [
      "out_gradients : 0.000205, 0.000202, 0.000175, 0.000164, 0.000162, 0.000146, 0.000143, 0.000143, 0.000140, 0.000137, 0.000137\n"
     ]
    }
   ],
   "source": [
    "out_gradients = []\n",
    "for index, value in enumerate(OUTPUT_CALIBRATION_VALUES[:-1]):\n",
    "    out_gradients.append(\n",
    "        (index + 1 - index) /\n",
    "        (OUTPUT_CALIBRATION_VALUES[index + 1] - value))\n",
    "out_gradients.append(out_gradients[-1])\n",
    "\n",
    "print(\"out_gradients :\", ', '.join(f\"{g:0.6f}\" for g in out_gradients))"
   ]
  },
  {
   "cell_type": "markdown",
   "metadata": {},
   "source": [
    "### Usage of the calibration to get the output PWN duty cycle value :"
   ]
  },
  {
   "cell_type": "code",
   "execution_count": 19,
   "metadata": {},
   "outputs": [
    {
     "name": "stdout",
     "output_type": "stream",
     "text": [
      "index = 2\n",
      "duty_cycle = int(9820 + (0.5 / 0.000175)) = 12675\n"
     ]
    }
   ],
   "source": [
    "voltage = 2.50\n",
    "index, decimal = (int(voltage // 1), voltage % 1)\n",
    "dac = int(OUTPUT_CALIBRATION_VALUES[index] + (decimal / out_gradients[index]))\n",
    "\n",
    "print(f\"index = {index}\")\n",
    "print(f\"duty_cycle = int({OUTPUT_CALIBRATION_VALUES[index]} + ({voltage % 1} / {out_gradients[index]:0.6f})) = {dac}\")"
   ]
  },
  {
   "cell_type": "markdown",
   "metadata": {},
   "source": [
    "### Optimisations :\n",
    "\n",
    "We can simplify the `out_gradients` precomputation with \n",
    "\n",
    "`(index + 1 - index) == 1`\n",
    "\n",
    "and, if we don't do the `1 / (...)` division :"
   ]
  },
  {
   "cell_type": "code",
   "execution_count": 20,
   "metadata": {},
   "outputs": [],
   "source": [
    "out_gradients = []\n",
    "for index, value in enumerate(OUTPUT_CALIBRATION_VALUES[:-1]):\n",
    "    out_gradients.append(OUTPUT_CALIBRATION_VALUES[index + 1] - value)\n",
    "out_gradients.append(out_gradients[-1])"
   ]
  },
  {
   "cell_type": "markdown",
   "metadata": {},
   "source": [
    "the output duty cycle computation becomes :"
   ]
  },
  {
   "cell_type": "code",
   "execution_count": 21,
   "metadata": {},
   "outputs": [],
   "source": [
    "duty_cycle = int(OUTPUT_CALIBRATION_VALUES[index] + (decimal * out_gradients[index]))"
   ]
  },
  {
   "cell_type": "markdown",
   "metadata": {},
   "source": [
    "# Tests\n",
    "\n",
    "Some quick tests to verify the above processes do not generate invalid values.\n",
    "\n",
    "### Input "
   ]
  },
  {
   "cell_type": "code",
   "execution_count": 22,
   "metadata": {},
   "outputs": [
    {
     "data": {
      "image/png": "[encoded data removed]",
      "text/plain": [
       "<matplotlib.figure.Figure at 0x7f445d5ea6d8>"
      ]
     },
     "metadata": {
      "needs_background": "light"
     },
     "output_type": "display_data"
    }
   ],
   "source": [
    "def read_voltage(reading):\n",
    "    try:\n",
    "        index = next(index for index, v in enumerate(INPUT_CALIBRATION_VALUES) if v >= reading) - 1\n",
    "    except StopIteration:\n",
    "        index = len(INPUT_CALIBRATION_VALUES) - 1\n",
    "    if index < 0:\n",
    "        cv = 0\n",
    "    else:\n",
    "        cv = INPUT_CALIBRATION_POINTS[index] + gradients[index] * (reading - INPUT_CALIBRATION_VALUES[index])\n",
    "    return clamp(cv, MIN_INPUT_VOLTAGE, MAX_INPUT_VOLTAGE)\n",
    "\n",
    "x = range(-11000, 65536, 5)\n",
    "y = list(read_voltage(r) for r in x)\n",
    "ax = create_plot(-10000, 65535, 10000)\n",
    "ax.scatter(x, y, s=2)\n",
    "plt.xlabel('ADC value')\n",
    "plt.ylabel('Voltage')\n",
    "plt.show()"
   ]
  },
  {
   "cell_type": "markdown",
   "metadata": {},
   "source": [
    "_Note: negative ADC value have no meaning; it's just for testing that the formula can accept any value._"
   ]
  },
  {
   "cell_type": "markdown",
   "metadata": {},
   "source": [
    "### Output"
   ]
  },
  {
   "cell_type": "code",
   "execution_count": 23,
   "metadata": {},
   "outputs": [
    {
     "data": {
      "image/png": "[encoded data removed]",
      "text/plain": [
       "<matplotlib.figure.Figure at 0x7f445d5a92b0>"
      ]
     },
     "metadata": {
      "needs_background": "light"
     },
     "output_type": "display_data"
    }
   ],
   "source": [
    "OUTPUT_CALIBRATION_VALUES=[0, 4870, 9820, 15530, 21630, 27810, 34640, 41640, 48630, 55770, 63090]\n",
    "\n",
    "def dac(voltage):\n",
    "    voltage = clamp(voltage, MIN_OUTPUT_VOLTAGE, MAX_OUTPUT_VOLTAGE)\n",
    "    index, decimal = (int(voltage // 1), voltage % 1)\n",
    "    return clamp(int(OUTPUT_CALIBRATION_VALUES[index] + (decimal * out_gradients[index])), 0, MAX_UINT16)\n",
    "\n",
    "## If we want to accept any positive voltage : \n",
    "# def dac(voltage):\n",
    "#     index, decimal = (int(voltage // 1), voltage % 1)\n",
    "#     if index >= len(OUTPUT_CALIBRATION_VALUES):        \n",
    "#         offset = OUTPUT_CALIBRATION_VALUES[-1]\n",
    "#         gradient = out_gradients[-1]\n",
    "#         decimal = decimal + (index - len(OUTPUT_CALIBRATION_VALUES) + 1)\n",
    "#     else:\n",
    "#         offset = OUTPUT_CALIBRATION_VALUES[index]\n",
    "#         gradient = out_gradients[index]\n",
    "#     return clamp(int(offset + (decimal / gradient)), 0, MAX_UINT16)\n",
    "    \n",
    "x = np.arange(-1, 11, 0.05)\n",
    "y = list(dac(v) for v in x)\n",
    "ax = create_plot(x_max=12)\n",
    "ax.scatter(x, y, s=2)\n",
    "plt.xlabel('Voltage')\n",
    "plt.ylabel('Duty cycle value')\n",
    "plt.show()"
   ]
  },
  {
   "cell_type": "code",
   "execution_count": null,
   "metadata": {},
   "outputs": [],
   "source": []
  }
 ],
 "metadata": {
  "kernelspec": {
   "display_name": "Python 3",
   "language": "python",
   "name": "python3"
  },
  "language_info": {
   "codemirror_mode": {
    "name": "ipython",
    "version": 3
   },
   "file_extension": ".py",
   "mimetype": "text/x-python",
   "name": "python",
   "nbconvert_exporter": "python",
   "pygments_lexer": "ipython3",
   "version": "3.6.9"
  }
 },
 "nbformat": 4,
 "nbformat_minor": 4
}
